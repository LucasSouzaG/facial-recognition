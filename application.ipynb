{
 "cells": [
  {
   "cell_type": "markdown",
   "metadata": {},
   "source": [
    "References\n",
    "- https://www.youtube.com/watch?v=sQpPaW17TwU&list=PLgNJO2hghbmhHuhURAGbe6KWpiYZt0AMH&index=4\n",
    "- https://github.dev/nicknochnack/FaceRecognition"
   ]
  },
  {
   "cell_type": "markdown",
   "metadata": {},
   "source": [
    "# Dependencaias\n",
    "\n",
    "Foram utilizados as seguintes bibliotecas:\n",
    "\n",
    "- tensorflow==2.4.1 \n",
    "- tensorflow-gpu==2.4.1 \n",
    "- opencv-python\n",
    "- os\n",
    "- random\n",
    "- numpy\n",
    "- matplotlib"
   ]
  },
  {
   "cell_type": "code",
   "execution_count": null,
   "metadata": {},
   "outputs": [],
   "source": [
    "import cv2\n",
    "import os\n",
    "import random\n",
    "import numpy as np\n",
    "import tensorflow as tf\n",
    "from matplotlib import pyplot as plt\n",
    "from tensorflow.keras.models import Model\n",
    "from tensorflow.keras.layers import Layer, Conv2D, Dense, MaxPooling2D, Input, Flatten"
   ]
  },
  {
   "cell_type": "code",
   "execution_count": null,
   "metadata": {},
   "outputs": [],
   "source": []
  }
 ],
 "metadata": {
  "language_info": {
   "name": "python"
  }
 },
 "nbformat": 4,
 "nbformat_minor": 2
}
